{
  "nbformat": 4,
  "nbformat_minor": 0,
  "metadata": {
    "colab": {
      "name": "google_colab_sqlite_basic_operations.ipynb",
      "provenance": [],
      "collapsed_sections": []
    },
    "kernelspec": {
      "name": "python3",
      "display_name": "Python 3"
    },
    "language_info": {
      "name": "python"
    }
  },
  "cells": [
    {
      "cell_type": "code",
      "execution_count": 47,
      "metadata": {
        "id": "3Kp6ZmgVNv6r"
      },
      "outputs": [],
      "source": [
        "import pandas as pd\n",
        "import numpy as np\n",
        "import random\n",
        "import os\n",
        "import glob\n",
        "import shutil\n",
        "import sqlite3\n",
        "from tqdm import tqdm\n",
        "from typing import List"
      ]
    },
    {
      "cell_type": "code",
      "source": [
        "sqlite3.register_adapter(np.int64, lambda val: int(val))\n",
        "sqlite3.register_adapter(np.int32, lambda val: int(val))"
      ],
      "metadata": {
        "id": "v0FH7-QCtyzL"
      },
      "execution_count": 48,
      "outputs": []
    },
    {
      "cell_type": "code",
      "source": [
        "def generation_datasets(number_datasets:int, \n",
        "                        number_rows:int,\n",
        "                        path_data:str=\"/content/data/\")->None:\n",
        "  if os.path.exists(path_data):\n",
        "    shutil.rmtree(path_data)\n",
        "  if not os.path.exists(path_data):\n",
        "    os.makedirs(path_data)\n",
        "  for n in tqdm(range(number_datasets)):\n",
        "    val = int(\"\".join([str(10),str(n)]))\n",
        "    list_code = [val for _ in range(number_rows)]\n",
        "    list_val = [random.randint(1, 100) for _ in range(number_rows)]\n",
        "    d = {\"code\":list_code, \"val\":list_val}\n",
        "    df = pd.DataFrame(data=d)\n",
        "    df.to_csv(f\"{path_data}dataset_{n}.csv\", index=False, sep=',')"
      ],
      "metadata": {
        "id": "uz_8cXAYN0Tn"
      },
      "execution_count": 49,
      "outputs": []
    },
    {
      "cell_type": "code",
      "source": [
        "generation_datasets(3,1000000)"
      ],
      "metadata": {
        "colab": {
          "base_uri": "https://localhost:8080/"
        },
        "id": "Jm2C6WEJS5A8",
        "outputId": "71249fdc-f7bc-4f0e-fdd3-90837c9e3ae5"
      },
      "execution_count": 50,
      "outputs": [
        {
          "output_type": "stream",
          "name": "stderr",
          "text": [
            "100%|██████████| 3/3 [00:08<00:00,  2.98s/it]\n"
          ]
        }
      ]
    },
    {
      "cell_type": "code",
      "source": [
        "def create_table(name_table:str=\"test_data\", \n",
        "                 col1:str =\"code\", \n",
        "                 col2:str=\"val\",\n",
        "                 path_database:str=\"/content/test.db\") -> None:\n",
        "    \"\"\"Создать таблицу в БД\"\"\"\n",
        "    try:\n",
        "        conn = sqlite3.connect(f\"{path_database}\")\n",
        "        cursor = conn.cursor()\n",
        "        cursor.execute(f\"drop table if exists {name_table};\")\n",
        "        cursor.execute(f\"create table {name_table}({col1} integer, {col2} integer);\")\n",
        "        conn.commit()\n",
        "    except sqlite3.DatabaseError as err:\n",
        "        print(\"Ошибка при работе с SQLite\")\n",
        "    finally:\n",
        "        if conn:\n",
        "            cursor.close()\n",
        "            conn.close()\n",
        "            print(\"Соединение с SQlite закрыто, таблица сформирована\")"
      ],
      "metadata": {
        "id": "sV16MyL8T6dN"
      },
      "execution_count": 51,
      "outputs": []
    },
    {
      "cell_type": "code",
      "source": [
        "create_table()"
      ],
      "metadata": {
        "colab": {
          "base_uri": "https://localhost:8080/"
        },
        "id": "TD7AdQOiUp49",
        "outputId": "20090cc4-75a4-428b-9b13-21b747995963"
      },
      "execution_count": 52,
      "outputs": [
        {
          "output_type": "stream",
          "name": "stdout",
          "text": [
            "Соединение с SQlite закрыто, таблица сформирована\n"
          ]
        }
      ]
    },
    {
      "cell_type": "code",
      "source": [
        "def get_all_file(path_data: str = '/content/data/') -> List[str]:\n",
        "    \"\"\"Получить список файлов в папке\"\"\"\n",
        "    all_file_name = list(glob.glob(f'{path_data}*.csv', recursive=True))\n",
        "    return all_file_name"
      ],
      "metadata": {
        "id": "c5IqdCa2VxCl"
      },
      "execution_count": 53,
      "outputs": []
    },
    {
      "cell_type": "code",
      "source": [
        "def load_data(path_database:str=\"/content/test.db\",\n",
        "              table_name:str = 'test_data',\n",
        "              col1:str =\"code\", \n",
        "              col2:str=\"val\") -> None:\n",
        "    \"\"\"Записать данные в БД\"\"\"\n",
        "    try:\n",
        "        conn = sqlite3.connect(path_database)\n",
        "        cursor = conn.cursor()\n",
        "        for current_file in get_all_file():\n",
        "          query = f\"INSERT INTO {table_name} ({col1}, {col2}) values(?, ?);\"\n",
        "          data = list(pd.read_csv(current_file).to_records(index=False))\n",
        "          cursor.executemany(query, data)\n",
        "          conn.commit()\n",
        "    except sqlite3.DatabaseError as err:\n",
        "        print(\"Ошибка при работе с SQLite\")\n",
        "    finally:\n",
        "        if conn:\n",
        "            cursor.close()\n",
        "            conn.close()\n",
        "            print(\"Соединение с SQlite закрыто, данные добавлены\")"
      ],
      "metadata": {
        "id": "NehmSF55UzFP"
      },
      "execution_count": 54,
      "outputs": []
    },
    {
      "cell_type": "code",
      "source": [
        "%%time\n",
        "load_data()"
      ],
      "metadata": {
        "colab": {
          "base_uri": "https://localhost:8080/"
        },
        "id": "QKNOAK7lbnZA",
        "outputId": "3e5a0f3a-ed89-4d0a-b653-96dc7f715e47"
      },
      "execution_count": 55,
      "outputs": [
        {
          "output_type": "stream",
          "name": "stdout",
          "text": [
            "Соединение с SQlite закрыто, данные добавлены\n",
            "CPU times: user 19.3 s, sys: 276 ms, total: 19.6 s\n",
            "Wall time: 19.9 s\n"
          ]
        }
      ]
    },
    {
      "cell_type": "code",
      "source": [
        "def select_sqlite(sql, path_database:str=\"/content/test.db\")->pd.DataFrame:\n",
        "    conn = sqlite3.connect(path_database)\n",
        "    return pd.read_sql(sql, conn)"
      ],
      "metadata": {
        "id": "zbwW69I-cHDB"
      },
      "execution_count": 56,
      "outputs": []
    },
    {
      "cell_type": "code",
      "source": [
        "sql = \"\"\"select t.code, count(*) as total_amount from test_data as t group by t.code\"\"\""
      ],
      "metadata": {
        "id": "Za6dYAvBccU_"
      },
      "execution_count": 57,
      "outputs": []
    },
    {
      "cell_type": "code",
      "source": [
        "select_sqlite(sql)"
      ],
      "metadata": {
        "colab": {
          "base_uri": "https://localhost:8080/",
          "height": 143
        },
        "id": "vWyNGwgFcg6e",
        "outputId": "80dbc998-a9d6-432e-ebcb-70e84b1f3265"
      },
      "execution_count": 58,
      "outputs": [
        {
          "output_type": "execute_result",
          "data": {
            "text/plain": [
              "   code  total_amount\n",
              "0   100       1000000\n",
              "1   101       1000000\n",
              "2   102       1000000"
            ],
            "text/html": [
              "\n",
              "  <div id=\"df-819b9199-4765-481a-b794-c73f1e00db0b\">\n",
              "    <div class=\"colab-df-container\">\n",
              "      <div>\n",
              "<style scoped>\n",
              "    .dataframe tbody tr th:only-of-type {\n",
              "        vertical-align: middle;\n",
              "    }\n",
              "\n",
              "    .dataframe tbody tr th {\n",
              "        vertical-align: top;\n",
              "    }\n",
              "\n",
              "    .dataframe thead th {\n",
              "        text-align: right;\n",
              "    }\n",
              "</style>\n",
              "<table border=\"1\" class=\"dataframe\">\n",
              "  <thead>\n",
              "    <tr style=\"text-align: right;\">\n",
              "      <th></th>\n",
              "      <th>code</th>\n",
              "      <th>total_amount</th>\n",
              "    </tr>\n",
              "  </thead>\n",
              "  <tbody>\n",
              "    <tr>\n",
              "      <th>0</th>\n",
              "      <td>100</td>\n",
              "      <td>1000000</td>\n",
              "    </tr>\n",
              "    <tr>\n",
              "      <th>1</th>\n",
              "      <td>101</td>\n",
              "      <td>1000000</td>\n",
              "    </tr>\n",
              "    <tr>\n",
              "      <th>2</th>\n",
              "      <td>102</td>\n",
              "      <td>1000000</td>\n",
              "    </tr>\n",
              "  </tbody>\n",
              "</table>\n",
              "</div>\n",
              "      <button class=\"colab-df-convert\" onclick=\"convertToInteractive('df-819b9199-4765-481a-b794-c73f1e00db0b')\"\n",
              "              title=\"Convert this dataframe to an interactive table.\"\n",
              "              style=\"display:none;\">\n",
              "        \n",
              "  <svg xmlns=\"http://www.w3.org/2000/svg\" height=\"24px\"viewBox=\"0 0 24 24\"\n",
              "       width=\"24px\">\n",
              "    <path d=\"M0 0h24v24H0V0z\" fill=\"none\"/>\n",
              "    <path d=\"M18.56 5.44l.94 2.06.94-2.06 2.06-.94-2.06-.94-.94-2.06-.94 2.06-2.06.94zm-11 1L8.5 8.5l.94-2.06 2.06-.94-2.06-.94L8.5 2.5l-.94 2.06-2.06.94zm10 10l.94 2.06.94-2.06 2.06-.94-2.06-.94-.94-2.06-.94 2.06-2.06.94z\"/><path d=\"M17.41 7.96l-1.37-1.37c-.4-.4-.92-.59-1.43-.59-.52 0-1.04.2-1.43.59L10.3 9.45l-7.72 7.72c-.78.78-.78 2.05 0 2.83L4 21.41c.39.39.9.59 1.41.59.51 0 1.02-.2 1.41-.59l7.78-7.78 2.81-2.81c.8-.78.8-2.07 0-2.86zM5.41 20L4 18.59l7.72-7.72 1.47 1.35L5.41 20z\"/>\n",
              "  </svg>\n",
              "      </button>\n",
              "      \n",
              "  <style>\n",
              "    .colab-df-container {\n",
              "      display:flex;\n",
              "      flex-wrap:wrap;\n",
              "      gap: 12px;\n",
              "    }\n",
              "\n",
              "    .colab-df-convert {\n",
              "      background-color: #E8F0FE;\n",
              "      border: none;\n",
              "      border-radius: 50%;\n",
              "      cursor: pointer;\n",
              "      display: none;\n",
              "      fill: #1967D2;\n",
              "      height: 32px;\n",
              "      padding: 0 0 0 0;\n",
              "      width: 32px;\n",
              "    }\n",
              "\n",
              "    .colab-df-convert:hover {\n",
              "      background-color: #E2EBFA;\n",
              "      box-shadow: 0px 1px 2px rgba(60, 64, 67, 0.3), 0px 1px 3px 1px rgba(60, 64, 67, 0.15);\n",
              "      fill: #174EA6;\n",
              "    }\n",
              "\n",
              "    [theme=dark] .colab-df-convert {\n",
              "      background-color: #3B4455;\n",
              "      fill: #D2E3FC;\n",
              "    }\n",
              "\n",
              "    [theme=dark] .colab-df-convert:hover {\n",
              "      background-color: #434B5C;\n",
              "      box-shadow: 0px 1px 3px 1px rgba(0, 0, 0, 0.15);\n",
              "      filter: drop-shadow(0px 1px 2px rgba(0, 0, 0, 0.3));\n",
              "      fill: #FFFFFF;\n",
              "    }\n",
              "  </style>\n",
              "\n",
              "      <script>\n",
              "        const buttonEl =\n",
              "          document.querySelector('#df-819b9199-4765-481a-b794-c73f1e00db0b button.colab-df-convert');\n",
              "        buttonEl.style.display =\n",
              "          google.colab.kernel.accessAllowed ? 'block' : 'none';\n",
              "\n",
              "        async function convertToInteractive(key) {\n",
              "          const element = document.querySelector('#df-819b9199-4765-481a-b794-c73f1e00db0b');\n",
              "          const dataTable =\n",
              "            await google.colab.kernel.invokeFunction('convertToInteractive',\n",
              "                                                     [key], {});\n",
              "          if (!dataTable) return;\n",
              "\n",
              "          const docLinkHtml = 'Like what you see? Visit the ' +\n",
              "            '<a target=\"_blank\" href=https://colab.research.google.com/notebooks/data_table.ipynb>data table notebook</a>'\n",
              "            + ' to learn more about interactive tables.';\n",
              "          element.innerHTML = '';\n",
              "          dataTable['output_type'] = 'display_data';\n",
              "          await google.colab.output.renderOutput(dataTable, element);\n",
              "          const docLink = document.createElement('div');\n",
              "          docLink.innerHTML = docLinkHtml;\n",
              "          element.appendChild(docLink);\n",
              "        }\n",
              "      </script>\n",
              "    </div>\n",
              "  </div>\n",
              "  "
            ]
          },
          "metadata": {},
          "execution_count": 58
        }
      ]
    }
  ]
}