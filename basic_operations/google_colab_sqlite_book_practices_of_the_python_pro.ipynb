{
  "nbformat": 4,
  "nbformat_minor": 0,
  "metadata": {
    "colab": {
      "name": "google_colab_sqlite_book_practices_of_the_python_pro.ipynb",
      "provenance": [],
      "collapsed_sections": []
    },
    "kernelspec": {
      "name": "python3",
      "display_name": "Python 3"
    },
    "language_info": {
      "name": "python"
    }
  },
  "cells": [
    {
      "cell_type": "markdown",
      "source": [
        "# БД SQLite. Переработанный материал из книги 'Секреты Python Pro' (Practices of the Python Pro), автор Дейн Хиллард"
      ],
      "metadata": {
        "id": "VF50qlHkYAuU"
      }
    },
    {
      "cell_type": "code",
      "source": [
        "import pandas as pd\n",
        "import numpy as np\n",
        "import sqlite3\n",
        "from datetime import datetime"
      ],
      "metadata": {
        "id": "txh4yhuEXuID"
      },
      "execution_count": 1,
      "outputs": []
    },
    {
      "cell_type": "code",
      "source": [
        "class DatabaseManager:\n",
        "    def __init__(self, database_filename):\n",
        "        self.connection = sqlite3.connect(database_filename)\n",
        "\n",
        "    def __del__(self):\n",
        "        self.connection.close()\n",
        "\n",
        "    def _execute(self, statement, values=None):\n",
        "        with self.connection:\n",
        "            cursor = self.connection.cursor()\n",
        "            cursor.execute(statement, values or [])\n",
        "            return cursor\n",
        "\n",
        "    def create_table(self, table_name, columns):\n",
        "        columns_with_types = [\n",
        "            f'{column_name} {data_type}'\n",
        "            for column_name, data_type in columns.items()\n",
        "        ]\n",
        "        self._execute(\n",
        "            f'''\n",
        "            CREATE TABLE IF NOT EXISTS {table_name}\n",
        "            ({', '.join(columns_with_types)});\n",
        "            '''\n",
        "        )\n",
        "\n",
        "    def drop_table(self, table_name):\n",
        "        self._execute(f'DROP TABLE {table_name};')\n",
        "\n",
        "    def add(self, table_name, data):\n",
        "        placeholders = ', '.join('?' * len(data))\n",
        "        column_names = ', '.join(data.keys())\n",
        "        column_values = tuple(data.values())\n",
        "\n",
        "        self._execute(\n",
        "            f'''\n",
        "            INSERT INTO {table_name}\n",
        "            ({column_names})\n",
        "            VALUES ({placeholders});\n",
        "            ''',\n",
        "            column_values,\n",
        "        )\n",
        "\n",
        "    def delete(self, table_name, criteria):\n",
        "        placeholders = [f'{column} = ?' for column in criteria.keys()]\n",
        "        delete_criteria = ' AND '.join(placeholders)\n",
        "        self._execute(\n",
        "            f'''\n",
        "            DELETE FROM {table_name}\n",
        "            WHERE {delete_criteria};\n",
        "            ''',\n",
        "            tuple(criteria.values()),\n",
        "        )\n",
        "\n",
        "    def select(self, table_name, criteria=None, order_by=None):\n",
        "        criteria = criteria or {}\n",
        "\n",
        "        query = f'SELECT * FROM {table_name}'\n",
        "\n",
        "        if criteria:\n",
        "            placeholders = [f'{column} = ?' for column in criteria.keys()]\n",
        "            select_criteria = ' AND '.join(placeholders)\n",
        "            query += f' WHERE {select_criteria}'\n",
        "\n",
        "        if order_by:\n",
        "            query += f' ORDER BY {order_by}'\n",
        "\n",
        "        return self._execute(\n",
        "            query,\n",
        "            tuple(criteria.values()),\n",
        "        )"
      ],
      "metadata": {
        "id": "1yUuHEgZYsHW"
      },
      "execution_count": 2,
      "outputs": []
    },
    {
      "cell_type": "code",
      "source": [
        "class BookmarksTable:\n",
        "\n",
        "  @classmethod\n",
        "  def create_bookmarks(cls):\n",
        "    db.create_table('bookmarks', {\n",
        "    'id': 'integer primary key autoincrement',\n",
        "    'title': 'text not null',\n",
        "    'url': 'text not null',\n",
        "    'notes': 'text',\n",
        "    'date_added': 'text not null',\n",
        "  })\n",
        "\n",
        "  @classmethod\n",
        "  def add_bookmark(cls,data):\n",
        "    data['date_added'] = datetime.utcnow().isoformat()\n",
        "    db.add('bookmarks', data)\n",
        "    return 'Bookmark added!'\n",
        "  \n",
        "  @classmethod\n",
        "  def list_bookmarks(cls,order_by='date_added'):\n",
        "    return db.select('bookmarks', order_by=order_by).fetchall()\n",
        "  \n",
        "  @classmethod\n",
        "  def delete_bookmark(cls,data):\n",
        "    db.delete('bookmarks', {'id': data})\n",
        "    return 'Bookmark deleted!'"
      ],
      "metadata": {
        "id": "XT7iL-ZgxhRT"
      },
      "execution_count": 3,
      "outputs": []
    },
    {
      "cell_type": "code",
      "source": [
        "db = DatabaseManager('bookmarks.db')"
      ],
      "metadata": {
        "id": "NNomQrh4Zg52"
      },
      "execution_count": 4,
      "outputs": []
    },
    {
      "cell_type": "code",
      "source": [
        "bookmarks = BookmarksTable()"
      ],
      "metadata": {
        "id": "Kf3sjbJatJJ-"
      },
      "execution_count": 5,
      "outputs": []
    },
    {
      "cell_type": "code",
      "source": [
        "bookmarks.create_bookmarks()"
      ],
      "metadata": {
        "id": "exSFCNuNtyJV"
      },
      "execution_count": 7,
      "outputs": []
    },
    {
      "cell_type": "code",
      "source": [
        "bookmarks.add_bookmark({'title':'title_a',\n",
        "                             'url':'url_a',\n",
        "                             'notes':'note_a'})\n",
        "bookmarks.add_bookmark({'title':'title_b',\n",
        "                             'url':'url_b',\n",
        "                             'notes':'note_b'})\n",
        "bookmarks.add_bookmark({'title':'title_c',\n",
        "                             'url':'url_c',\n",
        "                             'notes':'note_c'})"
      ],
      "metadata": {
        "colab": {
          "base_uri": "https://localhost:8080/",
          "height": 35
        },
        "id": "99vWUtm8uuY8",
        "outputId": "f6246bb2-c47d-477c-cd01-3fbf67c5b397"
      },
      "execution_count": 8,
      "outputs": [
        {
          "output_type": "execute_result",
          "data": {
            "text/plain": [
              "'Bookmark added!'"
            ],
            "application/vnd.google.colaboratory.intrinsic+json": {
              "type": "string"
            }
          },
          "metadata": {},
          "execution_count": 8
        }
      ]
    },
    {
      "cell_type": "code",
      "source": [
        "bookmarks.list_bookmarks()"
      ],
      "metadata": {
        "colab": {
          "base_uri": "https://localhost:8080/"
        },
        "id": "NUQh23-Nv1C1",
        "outputId": "868efb36-7d9f-4a5e-bc5c-ba50c779669f"
      },
      "execution_count": 9,
      "outputs": [
        {
          "output_type": "execute_result",
          "data": {
            "text/plain": [
              "[(1, 'title_a', 'url_a', 'note_a', '2022-07-02T07:20:15.567232'),\n",
              " (2, 'title_b', 'url_b', 'note_b', '2022-07-02T07:20:15.577099'),\n",
              " (3, 'title_c', 'url_c', 'note_c', '2022-07-02T07:20:15.586380')]"
            ]
          },
          "metadata": {},
          "execution_count": 9
        }
      ]
    },
    {
      "cell_type": "code",
      "source": [
        "bookmarks.delete_bookmark(3)"
      ],
      "metadata": {
        "colab": {
          "base_uri": "https://localhost:8080/",
          "height": 35
        },
        "id": "Vt-NKyHJwzGZ",
        "outputId": "c800710a-6210-45f3-ca90-6973993e8b14"
      },
      "execution_count": 10,
      "outputs": [
        {
          "output_type": "execute_result",
          "data": {
            "text/plain": [
              "'Bookmark deleted!'"
            ],
            "application/vnd.google.colaboratory.intrinsic+json": {
              "type": "string"
            }
          },
          "metadata": {},
          "execution_count": 10
        }
      ]
    },
    {
      "cell_type": "code",
      "source": [
        "def select_sqlite(sql, path_database:str=\"/content/bookmarks.db\")->pd.DataFrame:\n",
        "    conn = sqlite3.connect(path_database)\n",
        "    return pd.read_sql(sql, conn)"
      ],
      "metadata": {
        "id": "Im2PY6nQbQEd"
      },
      "execution_count": 11,
      "outputs": []
    },
    {
      "cell_type": "code",
      "source": [
        "sql = \"\"\"select * from bookmarks as b\"\"\""
      ],
      "metadata": {
        "id": "AXf6-JyKbhCb"
      },
      "execution_count": 12,
      "outputs": []
    },
    {
      "cell_type": "code",
      "source": [
        "select_sqlite(sql)"
      ],
      "metadata": {
        "colab": {
          "base_uri": "https://localhost:8080/",
          "height": 112
        },
        "id": "RN1yabKYbkCp",
        "outputId": "6b10c8f2-f605-44df-ee25-fc853cace2e0"
      },
      "execution_count": 13,
      "outputs": [
        {
          "output_type": "execute_result",
          "data": {
            "text/plain": [
              "   id    title    url   notes                  date_added\n",
              "0   1  title_a  url_a  note_a  2022-07-02T07:20:15.567232\n",
              "1   2  title_b  url_b  note_b  2022-07-02T07:20:15.577099"
            ],
            "text/html": [
              "\n",
              "  <div id=\"df-3b98de2c-7c5b-42c8-80f7-b36cf5511848\">\n",
              "    <div class=\"colab-df-container\">\n",
              "      <div>\n",
              "<style scoped>\n",
              "    .dataframe tbody tr th:only-of-type {\n",
              "        vertical-align: middle;\n",
              "    }\n",
              "\n",
              "    .dataframe tbody tr th {\n",
              "        vertical-align: top;\n",
              "    }\n",
              "\n",
              "    .dataframe thead th {\n",
              "        text-align: right;\n",
              "    }\n",
              "</style>\n",
              "<table border=\"1\" class=\"dataframe\">\n",
              "  <thead>\n",
              "    <tr style=\"text-align: right;\">\n",
              "      <th></th>\n",
              "      <th>id</th>\n",
              "      <th>title</th>\n",
              "      <th>url</th>\n",
              "      <th>notes</th>\n",
              "      <th>date_added</th>\n",
              "    </tr>\n",
              "  </thead>\n",
              "  <tbody>\n",
              "    <tr>\n",
              "      <th>0</th>\n",
              "      <td>1</td>\n",
              "      <td>title_a</td>\n",
              "      <td>url_a</td>\n",
              "      <td>note_a</td>\n",
              "      <td>2022-07-02T07:20:15.567232</td>\n",
              "    </tr>\n",
              "    <tr>\n",
              "      <th>1</th>\n",
              "      <td>2</td>\n",
              "      <td>title_b</td>\n",
              "      <td>url_b</td>\n",
              "      <td>note_b</td>\n",
              "      <td>2022-07-02T07:20:15.577099</td>\n",
              "    </tr>\n",
              "  </tbody>\n",
              "</table>\n",
              "</div>\n",
              "      <button class=\"colab-df-convert\" onclick=\"convertToInteractive('df-3b98de2c-7c5b-42c8-80f7-b36cf5511848')\"\n",
              "              title=\"Convert this dataframe to an interactive table.\"\n",
              "              style=\"display:none;\">\n",
              "        \n",
              "  <svg xmlns=\"http://www.w3.org/2000/svg\" height=\"24px\"viewBox=\"0 0 24 24\"\n",
              "       width=\"24px\">\n",
              "    <path d=\"M0 0h24v24H0V0z\" fill=\"none\"/>\n",
              "    <path d=\"M18.56 5.44l.94 2.06.94-2.06 2.06-.94-2.06-.94-.94-2.06-.94 2.06-2.06.94zm-11 1L8.5 8.5l.94-2.06 2.06-.94-2.06-.94L8.5 2.5l-.94 2.06-2.06.94zm10 10l.94 2.06.94-2.06 2.06-.94-2.06-.94-.94-2.06-.94 2.06-2.06.94z\"/><path d=\"M17.41 7.96l-1.37-1.37c-.4-.4-.92-.59-1.43-.59-.52 0-1.04.2-1.43.59L10.3 9.45l-7.72 7.72c-.78.78-.78 2.05 0 2.83L4 21.41c.39.39.9.59 1.41.59.51 0 1.02-.2 1.41-.59l7.78-7.78 2.81-2.81c.8-.78.8-2.07 0-2.86zM5.41 20L4 18.59l7.72-7.72 1.47 1.35L5.41 20z\"/>\n",
              "  </svg>\n",
              "      </button>\n",
              "      \n",
              "  <style>\n",
              "    .colab-df-container {\n",
              "      display:flex;\n",
              "      flex-wrap:wrap;\n",
              "      gap: 12px;\n",
              "    }\n",
              "\n",
              "    .colab-df-convert {\n",
              "      background-color: #E8F0FE;\n",
              "      border: none;\n",
              "      border-radius: 50%;\n",
              "      cursor: pointer;\n",
              "      display: none;\n",
              "      fill: #1967D2;\n",
              "      height: 32px;\n",
              "      padding: 0 0 0 0;\n",
              "      width: 32px;\n",
              "    }\n",
              "\n",
              "    .colab-df-convert:hover {\n",
              "      background-color: #E2EBFA;\n",
              "      box-shadow: 0px 1px 2px rgba(60, 64, 67, 0.3), 0px 1px 3px 1px rgba(60, 64, 67, 0.15);\n",
              "      fill: #174EA6;\n",
              "    }\n",
              "\n",
              "    [theme=dark] .colab-df-convert {\n",
              "      background-color: #3B4455;\n",
              "      fill: #D2E3FC;\n",
              "    }\n",
              "\n",
              "    [theme=dark] .colab-df-convert:hover {\n",
              "      background-color: #434B5C;\n",
              "      box-shadow: 0px 1px 3px 1px rgba(0, 0, 0, 0.15);\n",
              "      filter: drop-shadow(0px 1px 2px rgba(0, 0, 0, 0.3));\n",
              "      fill: #FFFFFF;\n",
              "    }\n",
              "  </style>\n",
              "\n",
              "      <script>\n",
              "        const buttonEl =\n",
              "          document.querySelector('#df-3b98de2c-7c5b-42c8-80f7-b36cf5511848 button.colab-df-convert');\n",
              "        buttonEl.style.display =\n",
              "          google.colab.kernel.accessAllowed ? 'block' : 'none';\n",
              "\n",
              "        async function convertToInteractive(key) {\n",
              "          const element = document.querySelector('#df-3b98de2c-7c5b-42c8-80f7-b36cf5511848');\n",
              "          const dataTable =\n",
              "            await google.colab.kernel.invokeFunction('convertToInteractive',\n",
              "                                                     [key], {});\n",
              "          if (!dataTable) return;\n",
              "\n",
              "          const docLinkHtml = 'Like what you see? Visit the ' +\n",
              "            '<a target=\"_blank\" href=https://colab.research.google.com/notebooks/data_table.ipynb>data table notebook</a>'\n",
              "            + ' to learn more about interactive tables.';\n",
              "          element.innerHTML = '';\n",
              "          dataTable['output_type'] = 'display_data';\n",
              "          await google.colab.output.renderOutput(dataTable, element);\n",
              "          const docLink = document.createElement('div');\n",
              "          docLink.innerHTML = docLinkHtml;\n",
              "          element.appendChild(docLink);\n",
              "        }\n",
              "      </script>\n",
              "    </div>\n",
              "  </div>\n",
              "  "
            ]
          },
          "metadata": {},
          "execution_count": 13
        }
      ]
    }
  ]
}