{
  "nbformat": 4,
  "nbformat_minor": 0,
  "metadata": {
    "colab": {
      "name": "google_colab_sqlite_create_func.ipynb",
      "provenance": [],
      "collapsed_sections": []
    },
    "kernelspec": {
      "name": "python3",
      "display_name": "Python 3"
    },
    "language_info": {
      "name": "python"
    }
  },
  "cells": [
    {
      "cell_type": "code",
      "metadata": {
        "id": "yRSpH7UOsD8o"
      },
      "source": [
        "%%capture\n",
        "\n",
        "!curl https://www.sqlite.org/src/tarball/sqlite.tar.gz?r=release | tar xz\n",
        "%cd sqlite/\n",
        "!./configure\n",
        "!make sqlite3.c\n",
        "%cd /content\n",
        "!npx degit coleifer/pysqlite3 -f\n",
        "!cp sqlite/sqlite3.[ch] .\n",
        "!python setup.py build_static build\n",
        "!cp build/lib.linux-x86_64-3.7/pysqlite3/_sqlite3.cpython-37m-x86_64-linux-gnu.so \\\n",
        "     /usr/lib/python3.7/lib-dynload/"
      ],
      "execution_count": 1,
      "outputs": []
    },
    {
      "cell_type": "markdown",
      "metadata": {
        "id": "etuvquY_spjm"
      },
      "source": [
        "### Перезапустить среду выполнения!"
      ]
    },
    {
      "cell_type": "code",
      "metadata": {
        "colab": {
          "base_uri": "https://localhost:8080/",
          "height": 35
        },
        "id": "slLCtyguscnn",
        "outputId": "b53fbaea-12d3-4ec9-d322-c9c5c0aef7b0"
      },
      "source": [
        "import sqlite3\n",
        "sqlite3.sqlite_version"
      ],
      "execution_count": 1,
      "outputs": [
        {
          "output_type": "execute_result",
          "data": {
            "application/vnd.google.colaboratory.intrinsic+json": {
              "type": "string"
            },
            "text/plain": [
              "'3.35.4'"
            ]
          },
          "metadata": {
            "tags": []
          },
          "execution_count": 1
        }
      ]
    },
    {
      "cell_type": "code",
      "metadata": {
        "id": "zXtvPdXKsfHm"
      },
      "source": [
        "import pandas as pd\n",
        "import numpy as np"
      ],
      "execution_count": 2,
      "outputs": []
    },
    {
      "cell_type": "code",
      "metadata": {
        "id": "zmE-TAIxsoTV"
      },
      "source": [
        "con = sqlite3.connect('db')\n",
        "cur = con.cursor()\n",
        "def select(sql):\n",
        "  return pd.read_sql(sql,con)"
      ],
      "execution_count": 3,
      "outputs": []
    },
    {
      "cell_type": "code",
      "metadata": {
        "id": "6cVtSWdttb8O"
      },
      "source": [
        "sql = \"\"\"CREATE TABLE IF NOT EXISTS test(userid INT PRIMARY KEY,fname TEXT,lname TEXT);\n",
        "INSERT INTO test (userid, fname, lname) VALUES('1','Иван','Иванов');\n",
        "INSERT INTO test (userid, fname, lname) VALUES('2','Петр','Петров');\n",
        "\"\"\""
      ],
      "execution_count": 4,
      "outputs": []
    },
    {
      "cell_type": "code",
      "metadata": {
        "colab": {
          "base_uri": "https://localhost:8080/"
        },
        "id": "xt0iZ0PBsySW",
        "outputId": "115a95b2-88c5-4461-a4e6-5456a184a3a0"
      },
      "source": [
        "cur.executescript(sql)"
      ],
      "execution_count": 5,
      "outputs": [
        {
          "output_type": "execute_result",
          "data": {
            "text/plain": [
              "<pysqlite3.dbapi2.Cursor at 0x7effd6ab7810>"
            ]
          },
          "metadata": {
            "tags": []
          },
          "execution_count": 5
        }
      ]
    },
    {
      "cell_type": "code",
      "metadata": {
        "id": "SHyEgpA-wK__"
      },
      "source": [
        "sql = '''select * from test'''"
      ],
      "execution_count": 6,
      "outputs": []
    },
    {
      "cell_type": "code",
      "metadata": {
        "colab": {
          "base_uri": "https://localhost:8080/",
          "height": 111
        },
        "id": "gdWj3ULawQzt",
        "outputId": "507285c3-ef9f-4b25-cb23-abc68cb27224"
      },
      "source": [
        "select(sql)"
      ],
      "execution_count": 7,
      "outputs": [
        {
          "output_type": "execute_result",
          "data": {
            "text/html": [
              "<div>\n",
              "<style scoped>\n",
              "    .dataframe tbody tr th:only-of-type {\n",
              "        vertical-align: middle;\n",
              "    }\n",
              "\n",
              "    .dataframe tbody tr th {\n",
              "        vertical-align: top;\n",
              "    }\n",
              "\n",
              "    .dataframe thead th {\n",
              "        text-align: right;\n",
              "    }\n",
              "</style>\n",
              "<table border=\"1\" class=\"dataframe\">\n",
              "  <thead>\n",
              "    <tr style=\"text-align: right;\">\n",
              "      <th></th>\n",
              "      <th>userid</th>\n",
              "      <th>fname</th>\n",
              "      <th>lname</th>\n",
              "    </tr>\n",
              "  </thead>\n",
              "  <tbody>\n",
              "    <tr>\n",
              "      <th>0</th>\n",
              "      <td>1</td>\n",
              "      <td>Иван</td>\n",
              "      <td>Иванов</td>\n",
              "    </tr>\n",
              "    <tr>\n",
              "      <th>1</th>\n",
              "      <td>2</td>\n",
              "      <td>Петр</td>\n",
              "      <td>Петров</td>\n",
              "    </tr>\n",
              "  </tbody>\n",
              "</table>\n",
              "</div>"
            ],
            "text/plain": [
              "   userid fname   lname\n",
              "0       1  Иван  Иванов\n",
              "1       2  Петр  Петров"
            ]
          },
          "metadata": {
            "tags": []
          },
          "execution_count": 7
        }
      ]
    },
    {
      "cell_type": "code",
      "metadata": {
        "id": "267gBZVZwTYN"
      },
      "source": [
        "def string_upper(value):\n",
        "    return value.upper()"
      ],
      "execution_count": 8,
      "outputs": []
    },
    {
      "cell_type": "code",
      "metadata": {
        "id": "Avc90eeOwpnl"
      },
      "source": [
        "con.create_function(\"string_upper\", 1, string_upper)"
      ],
      "execution_count": 9,
      "outputs": []
    },
    {
      "cell_type": "code",
      "metadata": {
        "id": "lTWhWOnnxBPI"
      },
      "source": [
        "sql = '''select userid, \n",
        "         string_upper(fname) as fname, \n",
        "         string_upper(lname) as lname\n",
        "         from test'''"
      ],
      "execution_count": 12,
      "outputs": []
    },
    {
      "cell_type": "code",
      "metadata": {
        "colab": {
          "base_uri": "https://localhost:8080/",
          "height": 111
        },
        "id": "8U0dsakNxPPV",
        "outputId": "e1d9beb9-7636-4174-ba95-4a9d189b6e63"
      },
      "source": [
        "select(sql)"
      ],
      "execution_count": 13,
      "outputs": [
        {
          "output_type": "execute_result",
          "data": {
            "text/html": [
              "<div>\n",
              "<style scoped>\n",
              "    .dataframe tbody tr th:only-of-type {\n",
              "        vertical-align: middle;\n",
              "    }\n",
              "\n",
              "    .dataframe tbody tr th {\n",
              "        vertical-align: top;\n",
              "    }\n",
              "\n",
              "    .dataframe thead th {\n",
              "        text-align: right;\n",
              "    }\n",
              "</style>\n",
              "<table border=\"1\" class=\"dataframe\">\n",
              "  <thead>\n",
              "    <tr style=\"text-align: right;\">\n",
              "      <th></th>\n",
              "      <th>userid</th>\n",
              "      <th>fname</th>\n",
              "      <th>lname</th>\n",
              "    </tr>\n",
              "  </thead>\n",
              "  <tbody>\n",
              "    <tr>\n",
              "      <th>0</th>\n",
              "      <td>1</td>\n",
              "      <td>ИВАН</td>\n",
              "      <td>ИВАНОВ</td>\n",
              "    </tr>\n",
              "    <tr>\n",
              "      <th>1</th>\n",
              "      <td>2</td>\n",
              "      <td>ПЕТР</td>\n",
              "      <td>ПЕТРОВ</td>\n",
              "    </tr>\n",
              "  </tbody>\n",
              "</table>\n",
              "</div>"
            ],
            "text/plain": [
              "   userid fname   lname\n",
              "0       1  ИВАН  ИВАНОВ\n",
              "1       2  ПЕТР  ПЕТРОВ"
            ]
          },
          "metadata": {
            "tags": []
          },
          "execution_count": 13
        }
      ]
    }
  ]
}
